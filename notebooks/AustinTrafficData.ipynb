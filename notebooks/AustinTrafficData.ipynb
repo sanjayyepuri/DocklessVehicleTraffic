{
 "cells": [
  {
   "cell_type": "markdown",
   "metadata": {},
   "source": [
    "## Requirements"
   ]
  },
  {
   "cell_type": "code",
   "execution_count": null,
   "metadata": {},
   "outputs": [],
   "source": [
    "!pip install pandas\n",
    "!conda install -c conda-forge osmnx"
   ]
  },
  {
   "cell_type": "markdown",
   "metadata": {},
   "source": [
    "## Fixing the data. "
   ]
  },
  {
   "cell_type": "code",
   "execution_count": 1,
   "metadata": {},
   "outputs": [],
   "source": [
    "import numpy as np\n",
    "import pandas as pd\n",
    "\n",
    "traffic_counts = pd.read_csv('~/work/data/Traffic_Studies__Vehicle_Volume_Reports__BETA_.csv')\n",
    "location_data = pd.read_csv('~/work/data/Traffic_Studies__Locations__BETA_.csv')"
   ]
  },
  {
   "cell_type": "code",
   "execution_count": 2,
   "metadata": {},
   "outputs": [
    {
     "name": "stdout",
     "output_type": "stream",
     "text": [
      "GLOBALID                            object\n",
      "DATA_FILE                           object\n",
      "SITE_CODE                           object\n",
      "START_DATE                          object\n",
      "COMMENT_FIELD2                      object\n",
      "COMMENT_FIELD1                      object\n",
      "COMMENT_FIELD4                      object\n",
      "COMMENT_FIELD3                      object\n",
      "LOCATION                            object\n",
      "Zip Codes                           object\n",
      "Single Member Council Districts    float64\n",
      "dtype: object\n"
     ]
    },
    {
     "data": {
      "text/plain": [
       "8"
      ]
     },
     "execution_count": 2,
     "metadata": {},
     "output_type": "execute_result"
    }
   ],
   "source": [
    "print(location_data.dtypes)\n",
    "len(location_data[location_data.SITE_CODE == \"D1JDC\"])"
   ]
  },
  {
   "cell_type": "markdown",
   "metadata": {},
   "source": [
    "Extracting the `LOCATION` into floating point values `latitude` and `longitude`."
   ]
  },
  {
   "cell_type": "code",
   "execution_count": 3,
   "metadata": {},
   "outputs": [
    {
     "name": "stdout",
     "output_type": "stream",
     "text": [
      "TRAFFIC_STUDY_COUNT_ID    object\n",
      "ROW_ID                    object\n",
      "DATA_FILE                 object\n",
      "SITE_CODE                 object\n",
      "DATETIME                  object\n",
      "YEAR                      object\n",
      "MONTH                      int64\n",
      "DAY_OF_MONTH               int64\n",
      "DAY_OF_WEEK                int64\n",
      "TIME                      object\n",
      "CHANNEL                   object\n",
      "COUNT_CHANNEL              int64\n",
      "COUNT_TOTAL                int64\n",
      "dtype: object\n"
     ]
    },
    {
     "data": {
      "text/html": [
       "<div>\n",
       "<style scoped>\n",
       "    .dataframe tbody tr th:only-of-type {\n",
       "        vertical-align: middle;\n",
       "    }\n",
       "\n",
       "    .dataframe tbody tr th {\n",
       "        vertical-align: top;\n",
       "    }\n",
       "\n",
       "    .dataframe thead th {\n",
       "        text-align: right;\n",
       "    }\n",
       "</style>\n",
       "<table border=\"1\" class=\"dataframe\">\n",
       "  <thead>\n",
       "    <tr style=\"text-align: right;\">\n",
       "      <th></th>\n",
       "      <th>TRAFFIC_STUDY_COUNT_ID</th>\n",
       "      <th>ROW_ID</th>\n",
       "      <th>DATA_FILE</th>\n",
       "      <th>SITE_CODE</th>\n",
       "      <th>DATETIME</th>\n",
       "      <th>YEAR</th>\n",
       "      <th>MONTH</th>\n",
       "      <th>DAY_OF_MONTH</th>\n",
       "      <th>DAY_OF_WEEK</th>\n",
       "      <th>TIME</th>\n",
       "      <th>CHANNEL</th>\n",
       "      <th>COUNT_CHANNEL</th>\n",
       "      <th>COUNT_TOTAL</th>\n",
       "    </tr>\n",
       "  </thead>\n",
       "  <tbody>\n",
       "    <tr>\n",
       "      <th>0</th>\n",
       "      <td>88,852</td>\n",
       "      <td>33f341612b199825adff17c5e9681e8bf86be3b0</td>\n",
       "      <td>2ndStE1400BlkWB.rdf</td>\n",
       "      <td>G8JN</td>\n",
       "      <td>04/25/2017 05:15:00 PM</td>\n",
       "      <td>2,017</td>\n",
       "      <td>4</td>\n",
       "      <td>25</td>\n",
       "      <td>1</td>\n",
       "      <td>17:15</td>\n",
       "      <td>WB</td>\n",
       "      <td>22</td>\n",
       "      <td>22</td>\n",
       "    </tr>\n",
       "    <tr>\n",
       "      <th>1</th>\n",
       "      <td>14,297</td>\n",
       "      <td>c87651b8fc232657f51544c0265bb71edb645f56</td>\n",
       "      <td>McCulloughSt2500BlkBD.rdf</td>\n",
       "      <td>G23RLZ</td>\n",
       "      <td>04/29/2016 12:00:00 PM</td>\n",
       "      <td>2,016</td>\n",
       "      <td>4</td>\n",
       "      <td>29</td>\n",
       "      <td>4</td>\n",
       "      <td>12:00</td>\n",
       "      <td>EB</td>\n",
       "      <td>1</td>\n",
       "      <td>2</td>\n",
       "    </tr>\n",
       "    <tr>\n",
       "      <th>2</th>\n",
       "      <td>77,384</td>\n",
       "      <td>18adda49b6e3bb477c43b2f3680bded2a7562634</td>\n",
       "      <td>CampMabryDrwy3044SB.rdf</td>\n",
       "      <td>G14CS</td>\n",
       "      <td>10/01/2015 10:15:00 AM</td>\n",
       "      <td>2,015</td>\n",
       "      <td>10</td>\n",
       "      <td>1</td>\n",
       "      <td>3</td>\n",
       "      <td>10:15</td>\n",
       "      <td>SB</td>\n",
       "      <td>1</td>\n",
       "      <td>1</td>\n",
       "    </tr>\n",
       "    <tr>\n",
       "      <th>3</th>\n",
       "      <td>29,525</td>\n",
       "      <td>98741d8ab066e9feca723bd8720867aa52f5018e</td>\n",
       "      <td>DessauRd10101BlkBD.rdf</td>\n",
       "      <td>D2JMA</td>\n",
       "      <td>03/22/2016 09:30:00 AM</td>\n",
       "      <td>2,016</td>\n",
       "      <td>3</td>\n",
       "      <td>22</td>\n",
       "      <td>1</td>\n",
       "      <td>09:30</td>\n",
       "      <td>NB</td>\n",
       "      <td>112</td>\n",
       "      <td>162</td>\n",
       "    </tr>\n",
       "    <tr>\n",
       "      <th>4</th>\n",
       "      <td>78,443</td>\n",
       "      <td>2b804108c6c9baab387e9b79c58498bf71e1cb60</td>\n",
       "      <td>CedroTrl5200blkBD.rdf</td>\n",
       "      <td>G20JDC</td>\n",
       "      <td>10/13/2015 01:30:00 PM</td>\n",
       "      <td>2,015</td>\n",
       "      <td>10</td>\n",
       "      <td>13</td>\n",
       "      <td>1</td>\n",
       "      <td>13:30</td>\n",
       "      <td>EB</td>\n",
       "      <td>24</td>\n",
       "      <td>50</td>\n",
       "    </tr>\n",
       "  </tbody>\n",
       "</table>\n",
       "</div>"
      ],
      "text/plain": [
       "  TRAFFIC_STUDY_COUNT_ID                                    ROW_ID  \\\n",
       "0                 88,852  33f341612b199825adff17c5e9681e8bf86be3b0   \n",
       "1                 14,297  c87651b8fc232657f51544c0265bb71edb645f56   \n",
       "2                 77,384  18adda49b6e3bb477c43b2f3680bded2a7562634   \n",
       "3                 29,525  98741d8ab066e9feca723bd8720867aa52f5018e   \n",
       "4                 78,443  2b804108c6c9baab387e9b79c58498bf71e1cb60   \n",
       "\n",
       "                   DATA_FILE SITE_CODE                DATETIME   YEAR  MONTH  \\\n",
       "0        2ndStE1400BlkWB.rdf      G8JN  04/25/2017 05:15:00 PM  2,017      4   \n",
       "1  McCulloughSt2500BlkBD.rdf    G23RLZ  04/29/2016 12:00:00 PM  2,016      4   \n",
       "2    CampMabryDrwy3044SB.rdf     G14CS  10/01/2015 10:15:00 AM  2,015     10   \n",
       "3     DessauRd10101BlkBD.rdf     D2JMA  03/22/2016 09:30:00 AM  2,016      3   \n",
       "4      CedroTrl5200blkBD.rdf    G20JDC  10/13/2015 01:30:00 PM  2,015     10   \n",
       "\n",
       "   DAY_OF_MONTH  DAY_OF_WEEK   TIME CHANNEL  COUNT_CHANNEL  COUNT_TOTAL  \n",
       "0            25            1  17:15      WB             22           22  \n",
       "1            29            4  12:00      EB              1            2  \n",
       "2             1            3  10:15      SB              1            1  \n",
       "3            22            1  09:30      NB            112          162  \n",
       "4            13            1  13:30      EB             24           50  "
      ]
     },
     "execution_count": 3,
     "metadata": {},
     "output_type": "execute_result"
    }
   ],
   "source": [
    "location_data['latitude'] = location_data['LOCATION'].apply(lambda row: eval(row)[0])\n",
    "location_data['longitude'] = location_data['LOCATION'].apply(lambda row: eval(row)[1])\n",
    "\n",
    "location_data = location_data.drop(columns=['LOCATION'])\n",
    "\n",
    "location_data.head()\n",
    "\n",
    "print(traffic_counts.dtypes)\n",
    "traffic_counts.head()"
   ]
  },
  {
   "cell_type": "markdown",
   "metadata": {},
   "source": [
    "Now we have to extract the date time into a usable format. "
   ]
  },
  {
   "cell_type": "code",
   "execution_count": 4,
   "metadata": {},
   "outputs": [
    {
     "data": {
      "text/html": [
       "<div>\n",
       "<style scoped>\n",
       "    .dataframe tbody tr th:only-of-type {\n",
       "        vertical-align: middle;\n",
       "    }\n",
       "\n",
       "    .dataframe tbody tr th {\n",
       "        vertical-align: top;\n",
       "    }\n",
       "\n",
       "    .dataframe thead th {\n",
       "        text-align: right;\n",
       "    }\n",
       "</style>\n",
       "<table border=\"1\" class=\"dataframe\">\n",
       "  <thead>\n",
       "    <tr style=\"text-align: right;\">\n",
       "      <th></th>\n",
       "      <th>TRAFFIC_STUDY_COUNT_ID</th>\n",
       "      <th>ROW_ID</th>\n",
       "      <th>DATA_FILE</th>\n",
       "      <th>SITE_CODE</th>\n",
       "      <th>YEAR</th>\n",
       "      <th>MONTH</th>\n",
       "      <th>DAY_OF_MONTH</th>\n",
       "      <th>DAY_OF_WEEK</th>\n",
       "      <th>CHANNEL</th>\n",
       "      <th>COUNT_CHANNEL</th>\n",
       "      <th>COUNT_TOTAL</th>\n",
       "      <th>date_time</th>\n",
       "      <th>time</th>\n",
       "    </tr>\n",
       "  </thead>\n",
       "  <tbody>\n",
       "    <tr>\n",
       "      <th>0</th>\n",
       "      <td>88,852</td>\n",
       "      <td>33f341612b199825adff17c5e9681e8bf86be3b0</td>\n",
       "      <td>2ndStE1400BlkWB.rdf</td>\n",
       "      <td>G8JN</td>\n",
       "      <td>2,017</td>\n",
       "      <td>4</td>\n",
       "      <td>25</td>\n",
       "      <td>1</td>\n",
       "      <td>WB</td>\n",
       "      <td>22</td>\n",
       "      <td>22</td>\n",
       "      <td>2017-04-25 17:15:00</td>\n",
       "      <td>2019-04-29 17:15:00</td>\n",
       "    </tr>\n",
       "    <tr>\n",
       "      <th>1</th>\n",
       "      <td>14,297</td>\n",
       "      <td>c87651b8fc232657f51544c0265bb71edb645f56</td>\n",
       "      <td>McCulloughSt2500BlkBD.rdf</td>\n",
       "      <td>G23RLZ</td>\n",
       "      <td>2,016</td>\n",
       "      <td>4</td>\n",
       "      <td>29</td>\n",
       "      <td>4</td>\n",
       "      <td>EB</td>\n",
       "      <td>1</td>\n",
       "      <td>2</td>\n",
       "      <td>2016-04-29 12:00:00</td>\n",
       "      <td>2019-04-29 12:00:00</td>\n",
       "    </tr>\n",
       "    <tr>\n",
       "      <th>2</th>\n",
       "      <td>77,384</td>\n",
       "      <td>18adda49b6e3bb477c43b2f3680bded2a7562634</td>\n",
       "      <td>CampMabryDrwy3044SB.rdf</td>\n",
       "      <td>G14CS</td>\n",
       "      <td>2,015</td>\n",
       "      <td>10</td>\n",
       "      <td>1</td>\n",
       "      <td>3</td>\n",
       "      <td>SB</td>\n",
       "      <td>1</td>\n",
       "      <td>1</td>\n",
       "      <td>2015-10-01 10:15:00</td>\n",
       "      <td>2019-04-29 10:15:00</td>\n",
       "    </tr>\n",
       "    <tr>\n",
       "      <th>3</th>\n",
       "      <td>29,525</td>\n",
       "      <td>98741d8ab066e9feca723bd8720867aa52f5018e</td>\n",
       "      <td>DessauRd10101BlkBD.rdf</td>\n",
       "      <td>D2JMA</td>\n",
       "      <td>2,016</td>\n",
       "      <td>3</td>\n",
       "      <td>22</td>\n",
       "      <td>1</td>\n",
       "      <td>NB</td>\n",
       "      <td>112</td>\n",
       "      <td>162</td>\n",
       "      <td>2016-03-22 09:30:00</td>\n",
       "      <td>2019-04-29 09:30:00</td>\n",
       "    </tr>\n",
       "    <tr>\n",
       "      <th>4</th>\n",
       "      <td>78,443</td>\n",
       "      <td>2b804108c6c9baab387e9b79c58498bf71e1cb60</td>\n",
       "      <td>CedroTrl5200blkBD.rdf</td>\n",
       "      <td>G20JDC</td>\n",
       "      <td>2,015</td>\n",
       "      <td>10</td>\n",
       "      <td>13</td>\n",
       "      <td>1</td>\n",
       "      <td>EB</td>\n",
       "      <td>24</td>\n",
       "      <td>50</td>\n",
       "      <td>2015-10-13 13:30:00</td>\n",
       "      <td>2019-04-29 13:30:00</td>\n",
       "    </tr>\n",
       "  </tbody>\n",
       "</table>\n",
       "</div>"
      ],
      "text/plain": [
       "  TRAFFIC_STUDY_COUNT_ID                                    ROW_ID  \\\n",
       "0                 88,852  33f341612b199825adff17c5e9681e8bf86be3b0   \n",
       "1                 14,297  c87651b8fc232657f51544c0265bb71edb645f56   \n",
       "2                 77,384  18adda49b6e3bb477c43b2f3680bded2a7562634   \n",
       "3                 29,525  98741d8ab066e9feca723bd8720867aa52f5018e   \n",
       "4                 78,443  2b804108c6c9baab387e9b79c58498bf71e1cb60   \n",
       "\n",
       "                   DATA_FILE SITE_CODE   YEAR  MONTH  DAY_OF_MONTH  \\\n",
       "0        2ndStE1400BlkWB.rdf      G8JN  2,017      4            25   \n",
       "1  McCulloughSt2500BlkBD.rdf    G23RLZ  2,016      4            29   \n",
       "2    CampMabryDrwy3044SB.rdf     G14CS  2,015     10             1   \n",
       "3     DessauRd10101BlkBD.rdf     D2JMA  2,016      3            22   \n",
       "4      CedroTrl5200blkBD.rdf    G20JDC  2,015     10            13   \n",
       "\n",
       "   DAY_OF_WEEK CHANNEL  COUNT_CHANNEL  COUNT_TOTAL           date_time  \\\n",
       "0            1      WB             22           22 2017-04-25 17:15:00   \n",
       "1            4      EB              1            2 2016-04-29 12:00:00   \n",
       "2            3      SB              1            1 2015-10-01 10:15:00   \n",
       "3            1      NB            112          162 2016-03-22 09:30:00   \n",
       "4            1      EB             24           50 2015-10-13 13:30:00   \n",
       "\n",
       "                 time  \n",
       "0 2019-04-29 17:15:00  \n",
       "1 2019-04-29 12:00:00  \n",
       "2 2019-04-29 10:15:00  \n",
       "3 2019-04-29 09:30:00  \n",
       "4 2019-04-29 13:30:00  "
      ]
     },
     "execution_count": 4,
     "metadata": {},
     "output_type": "execute_result"
    }
   ],
   "source": [
    "traffic_counts['date_time'] = pd.to_datetime(traffic_counts['DATETIME'])\n",
    "traffic_counts['time'] = pd.to_datetime(traffic_counts['TIME'])\n",
    "traffic_counts = traffic_counts.drop(columns=['TIME'])\n",
    "traffic_counts = traffic_counts.drop(columns=['DATETIME'])\n",
    "\n",
    "traffic_counts.head()"
   ]
  },
  {
   "cell_type": "code",
   "execution_count": null,
   "metadata": {},
   "outputs": [],
   "source": [
    "location_data[location_data['SITE_CODE'].isin(['G8JN'])].head()"
   ]
  },
  {
   "cell_type": "code",
   "execution_count": null,
   "metadata": {},
   "outputs": [],
   "source": [
    "traffic_counts[traffic_counts['SITE_CODE'].isin(['G8JN'])].head()"
   ]
  },
  {
   "cell_type": "markdown",
   "metadata": {},
   "source": [
    "Trying to determine what the duplicate row entries look like. "
   ]
  },
  {
   "cell_type": "code",
   "execution_count": 7,
   "metadata": {},
   "outputs": [
    {
     "name": "stdout",
     "output_type": "stream",
     "text": [
      "(84115, 24)\n",
      "(123870, 13)\n"
     ]
    },
    {
     "data": {
      "text/html": [
       "<div>\n",
       "<style scoped>\n",
       "    .dataframe tbody tr th:only-of-type {\n",
       "        vertical-align: middle;\n",
       "    }\n",
       "\n",
       "    .dataframe tbody tr th {\n",
       "        vertical-align: top;\n",
       "    }\n",
       "\n",
       "    .dataframe thead th {\n",
       "        text-align: right;\n",
       "    }\n",
       "</style>\n",
       "<table border=\"1\" class=\"dataframe\">\n",
       "  <thead>\n",
       "    <tr style=\"text-align: right;\">\n",
       "      <th></th>\n",
       "      <th>ROW_ID</th>\n",
       "      <th>DATA_FILE</th>\n",
       "      <th>date_time</th>\n",
       "      <th>COUNT_TOTAL</th>\n",
       "      <th>latitude</th>\n",
       "      <th>longitude</th>\n",
       "    </tr>\n",
       "  </thead>\n",
       "  <tbody>\n",
       "    <tr>\n",
       "      <th>4032</th>\n",
       "      <td>f8661d1e33f76d71e6d3a8fb1b619b3426c24bd0</td>\n",
       "      <td>LakewoodDr7200BlkBD.rdf</td>\n",
       "      <td>2016-09-27 17:45:00</td>\n",
       "      <td>57</td>\n",
       "      <td>30.373431</td>\n",
       "      <td>-97.789000</td>\n",
       "    </tr>\n",
       "    <tr>\n",
       "      <th>4033</th>\n",
       "      <td>f8661d1e33f76d71e6d3a8fb1b619b3426c24bd0</td>\n",
       "      <td>LakewoodDr7200BlkBD.rdf</td>\n",
       "      <td>2016-09-27 17:45:00</td>\n",
       "      <td>57</td>\n",
       "      <td>30.373417</td>\n",
       "      <td>-97.788997</td>\n",
       "    </tr>\n",
       "  </tbody>\n",
       "</table>\n",
       "</div>"
      ],
      "text/plain": [
       "                                        ROW_ID                DATA_FILE  \\\n",
       "4032  f8661d1e33f76d71e6d3a8fb1b619b3426c24bd0  LakewoodDr7200BlkBD.rdf   \n",
       "4033  f8661d1e33f76d71e6d3a8fb1b619b3426c24bd0  LakewoodDr7200BlkBD.rdf   \n",
       "\n",
       "               date_time  COUNT_TOTAL   latitude  longitude  \n",
       "4032 2016-09-27 17:45:00           57  30.373431 -97.789000  \n",
       "4033 2016-09-27 17:45:00           57  30.373417 -97.788997  "
      ]
     },
     "execution_count": 7,
     "metadata": {},
     "output_type": "execute_result"
    }
   ],
   "source": [
    "merge = pd.merge(traffic_counts, location_data, how='inner', on=['DATA_FILE'])\n",
    "print(merge.shape)\n",
    "print(traffic_counts.shape)\n",
    "merge[merge['ROW_ID'] == 'f8661d1e33f76d71e6d3a8fb1b619b3426c24bd0'][['ROW_ID', 'DATA_FILE', 'date_time', 'COUNT_TOTAL','latitude', 'longitude' ]]"
   ]
  },
  {
   "cell_type": "markdown",
   "metadata": {},
   "source": [
    "I think it safe to assume that duplicate columns are identical when looking at the `COUNT_TOTAL`"
   ]
  },
  {
   "cell_type": "code",
   "execution_count": 8,
   "metadata": {},
   "outputs": [
    {
     "name": "stdout",
     "output_type": "stream",
     "text": [
      "(80947, 24)\n",
      "TRAFFIC_STUDY_COUNT_ID                     object\n",
      "ROW_ID                                     object\n",
      "DATA_FILE                                  object\n",
      "SITE_CODE_x                                object\n",
      "YEAR                                       object\n",
      "MONTH                                       int64\n",
      "DAY_OF_MONTH                                int64\n",
      "DAY_OF_WEEK                                 int64\n",
      "CHANNEL                                    object\n",
      "COUNT_CHANNEL                               int64\n",
      "COUNT_TOTAL                                 int64\n",
      "date_time                          datetime64[ns]\n",
      "time                               datetime64[ns]\n",
      "GLOBALID                                   object\n",
      "SITE_CODE_y                                object\n",
      "START_DATE                                 object\n",
      "COMMENT_FIELD2                             object\n",
      "COMMENT_FIELD1                             object\n",
      "COMMENT_FIELD4                             object\n",
      "COMMENT_FIELD3                             object\n",
      "Zip Codes                                  object\n",
      "Single Member Council Districts           float64\n",
      "latitude                                  float64\n",
      "longitude                                 float64\n",
      "dtype: object\n"
     ]
    },
    {
     "data": {
      "text/plain": [
       "True"
      ]
     },
     "execution_count": 8,
     "metadata": {},
     "output_type": "execute_result"
    }
   ],
   "source": [
    "merge_no_dups = merge.drop_duplicates('ROW_ID')\n",
    "print(merge_no_dups.shape)\n",
    "print(merge_no_dups.dtypes)\n",
    "merge_no_dups['ROW_ID'].is_unique"
   ]
  },
  {
   "cell_type": "markdown",
   "metadata": {},
   "source": [
    "### Traffic Data\n",
    "Lets look at how the traffic data looks like throughout a day at a single intersection."
   ]
  },
  {
   "cell_type": "code",
   "execution_count": 25,
   "metadata": {},
   "outputs": [
    {
     "data": {
      "text/plain": [
       "(array([737178.   , 737178.125, 737178.25 , 737178.375, 737178.5  ,\n",
       "        737178.625, 737178.75 , 737178.875, 737179.   ]),\n",
       " <a list of 9 Text xticklabel objects>)"
      ]
     },
     "execution_count": 25,
     "metadata": {},
     "output_type": "execute_result"
    },
    {
     "data": {
      "image/png": "[encoded data removed]",
      "text/plain": [
       "<Figure size 432x288 with 1 Axes>"
      ]
     },
     "metadata": {
      "needs_background": "light"
     },
     "output_type": "display_data"
    }
   ],
   "source": [
    "import matplotlib\n",
    "import matplotlib.pyplot as plt\n",
    "from pandas.plotting import register_matplotlib_converters\n",
    "register_matplotlib_converters()\n",
    "\n",
    "secondst_data = merge_no_dups[merge_no_dups['DATA_FILE'] == '2ndStE1400BlkWB.rdf'].sort_values(by='time')\n",
    "\n",
    "\n",
    "\n",
    "plt.plot(secondst_data['time'], secondst_data['COUNT_TOTAL'])\n",
    "plt.gcf().autofmt_xdate()\n",
    "plt.xticks(rotation='vertical')"
   ]
  },
  {
   "cell_type": "code",
   "execution_count": 17,
   "metadata": {},
   "outputs": [
    {
     "data": {
      "text/plain": [
       "[<matplotlib.lines.Line2D at 0x7f5667c78128>]"
      ]
     },
     "execution_count": 17,
     "metadata": {},
     "output_type": "execute_result"
    },
    {
     "data": {
      "image/png": "[encoded data removed]",
      "text/plain": [
       "<Figure size 432x288 with 1 Axes>"
      ]
     },
     "metadata": {
      "needs_background": "light"
     },
     "output_type": "display_data"
    }
   ],
   "source": [
    "secondst_data_dt = merge_no_dups[merge_no_dups['DATA_FILE'] == '2ndStE1400BlkWB.rdf'].sort_values(by='date_time')\n",
    "plt.plot(secondst_data_dt['date_time'], secondst_data_dt['COUNT_TOTAL'])"
   ]
  },
  {
   "cell_type": "markdown",
   "metadata": {},
   "source": [
    "## Maps"
   ]
  },
  {
   "cell_type": "code",
   "execution_count": null,
   "metadata": {},
   "outputs": [],
   "source": [
    "import osmnx as ox\n",
    "\n",
    "location = \"2101 Rio Grande Street, Austin, TX 78705\"\n",
    "G = ox.graph_from_address(location)"
   ]
  },
  {
   "cell_type": "code",
   "execution_count": null,
   "metadata": {},
   "outputs": [],
   "source": [
    "fig, ax = ox.plot_graph(G, show=False, close=False)"
   ]
  },
  {
   "cell_type": "code",
   "execution_count": null,
   "metadata": {},
   "outputs": [],
   "source": []
  }
 ],
 "metadata": {
  "kernelspec": {
   "display_name": "Python 3",
   "language": "python",
   "name": "python3"
  },
  "language_info": {
   "codemirror_mode": {
    "name": "ipython",
    "version": 3
   },
   "file_extension": ".py",
   "mimetype": "text/x-python",
   "name": "python",
   "nbconvert_exporter": "python",
   "pygments_lexer": "ipython3",
   "version": "3.7.1"
  }
 },
 "nbformat": 4,
 "nbformat_minor": 2
}
