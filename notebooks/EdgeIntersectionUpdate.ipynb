{
 "cells": [
  {
   "cell_type": "code",
   "execution_count": null,
   "metadata": {},
   "outputs": [],
   "source": [
    "def update_intersections(G, start_nodes, end_nodes):\n",
    "\t\"\"\"\n",
    "\tCalculates the shortest path length between start and end coordinates and increments an edge count in osmnx's Edge class when encountering intersecting edges between all combinations of 2 lines. \n",
    "\tInput: list of nodes that represent that start and end destination\n",
    "\tOutput: None - edges within the graph are updated to reflect \n",
    "\t\"\"\"\n",
    "\tif len(start_nodes) != len(end_nodes):\n",
    "\t\traise Exception(\"Number of start coords is different from number of end coords\")\n",
    "\n",
    "\t# paths is a list that will contains a list of shortest paths (list of nodes)\n",
    "\tpaths = []\n",
    "\tfor i in range(len(start_nodes)):\n",
    "\t\tpaths.append(nx.shortest_path(G, start_nodes[i], end_nodes[i])\n",
    "\n",
    "\t# increment edge count for an edge denoted by each line list \n",
    "\tfor path in paths:\n",
    "\t\tfor node in range(len(path)-1):\n",
    "\t\t\tG.edges[path[node], path[node+1]] += 1\n"
   ]
  }
 ],
 "metadata": {
  "kernelspec": {
   "display_name": "Python 3",
   "language": "python",
   "name": "python3"
  },
  "language_info": {
   "codemirror_mode": {
    "name": "ipython",
    "version": 3
   },
   "file_extension": ".py",
   "mimetype": "text/x-python",
   "name": "python",
   "nbconvert_exporter": "python",
   "pygments_lexer": "ipython3",
   "version": "3.7.2"
  }
 },
 "nbformat": 4,
 "nbformat_minor": 2
}
