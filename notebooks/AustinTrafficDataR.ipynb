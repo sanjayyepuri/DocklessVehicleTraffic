{
 "cells": [
  {
   "cell_type": "code",
   "execution_count": null,
   "metadata": {
    "scrolled": false
   },
   "outputs": [],
   "source": [
    "location_data = read.csv(\"~/work/Traffic_Studies__Locations__BETA_.csv\", header=TRUE)\n",
    "traffic_counts = read.csv(\"~/work/Traffic_Studies__Vehicle_Volume_Reports__BETA_.csv\", header=TRUE)"
   ]
  },
  {
   "cell_type": "code",
   "execution_count": null,
   "metadata": {},
   "outputs": [],
   "source": [
    "dim(location_data)\n",
    "dim(traffic_counts)\n",
    "\n",
    "names(location_data)\n",
    "#head(location_data)\n",
    "\n",
    "sum(location_data[\"SITE_CODE\"] == \"D1JDC\")\n",
    "sum(traffic_counts[\"SITE_CODE\"] == \"D1JDC\")\n",
    "\n",
    "names(traffic_counts)\n",
    "#head(traffic_counts)"
   ]
  },
  {
   "cell_type": "markdown",
   "metadata": {},
   "source": [
    "Trying to merge location data with vehicle counts so we can create a heat map and get a better view of what data we have. "
   ]
  },
  {
   "cell_type": "code",
   "execution_count": null,
   "metadata": {
    "scrolled": false
   },
   "outputs": [],
   "source": [
    "traffic_counts.location = merge(traffic_counts, location_data[,c(3,9)], by = c(\"SITE_CODE\"))"
   ]
  },
  {
   "cell_type": "code",
   "execution_count": null,
   "metadata": {},
   "outputs": [],
   "source": [
    "dim(traffic_counts.location)\n",
    "names(traffic_counts.location)\n",
    "\n",
    "head(traffic_counts.location[,c(1,3,14)])"
   ]
  },
  {
   "cell_type": "code",
   "execution_count": null,
   "metadata": {},
   "outputs": [],
   "source": [
    "install.packages(\"OpenStreetMap\")\n",
    "\n",
    "library(OpenStreetMap)"
   ]
  }
 ],
 "metadata": {
  "kernelspec": {
   "display_name": "R",
   "language": "R",
   "name": "ir"
  },
  "language_info": {
   "codemirror_mode": "r",
   "file_extension": ".r",
   "mimetype": "text/x-r-source",
   "name": "R",
   "pygments_lexer": "r",
   "version": "3.5.1"
  }
 },
 "nbformat": 4,
 "nbformat_minor": 2
}
