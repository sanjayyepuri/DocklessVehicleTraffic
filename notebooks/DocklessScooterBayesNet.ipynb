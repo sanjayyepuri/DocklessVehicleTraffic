{
 "cells": [
  {
   "cell_type": "markdown",
   "metadata": {},
   "source": [
    "# Dockless Scooter Bayesian Network"
   ]
  },
  {
   "cell_type": "markdown",
   "metadata": {},
   "source": [
    "Loading bayesnet and data."
   ]
  },
  {
   "cell_type": "code",
   "execution_count": 22,
   "metadata": {},
   "outputs": [],
   "source": [
    "from dockless_model import DocklessBayesNet\n",
    "from dockless_data import *\n",
    "import pandas as pd"
   ]
  },
  {
   "cell_type": "code",
   "execution_count": 124,
   "metadata": {
    "scrolled": true
   },
   "outputs": [
    {
     "name": "stdout",
     "output_type": "stream",
     "text": [
      "Loading Scooter Data ...\n"
     ]
    },
    {
     "name": "stderr",
     "output_type": "stream",
     "text": [
      "/Users/sanjayyepuri/.pyenv/versions/anaconda3-5.3.1/lib/python3.7/site-packages/ipykernel_launcher.py:2: DtypeWarning: Columns (14,15) have mixed types. Specify dtype option on import or set low_memory=False.\n",
      "  \n"
     ]
    },
    {
     "name": "stdout",
     "output_type": "stream",
     "text": [
      "Scooter Data Loaded.\n",
      "Loading Census Data ...\n",
      "Census Data Loaded.\n",
      "Loading Class Data ...\n"
     ]
    },
    {
     "ename": "KeyboardInterrupt",
     "evalue": "",
     "output_type": "error",
     "traceback": [
      "\u001b[0;31m---------------------------------------------------------------------------\u001b[0m",
      "\u001b[0;31mKeyboardInterrupt\u001b[0m                         Traceback (most recent call last)",
      "\u001b[0;32m<ipython-input-124-6377597cb4e3>\u001b[0m in \u001b[0;36m<module>\u001b[0;34m()\u001b[0m\n\u001b[1;32m      1\u001b[0m \u001b[0mdl_model\u001b[0m \u001b[0;34m=\u001b[0m \u001b[0mDocklessBayesNet\u001b[0m\u001b[0;34m(\u001b[0m\u001b[0;34m)\u001b[0m\u001b[0;34m\u001b[0m\u001b[0;34m\u001b[0m\u001b[0m\n\u001b[0;32m----> 2\u001b[0;31m \u001b[0mdl_model\u001b[0m\u001b[0;34m.\u001b[0m\u001b[0mload_data\u001b[0m\u001b[0;34m(\u001b[0m\u001b[0;34m)\u001b[0m\u001b[0;34m\u001b[0m\u001b[0;34m\u001b[0m\u001b[0m\n\u001b[0m",
      "\u001b[0;32m~/Documents/Source/343h/traffic/notebooks/dockless_model.py\u001b[0m in \u001b[0;36mload_data\u001b[0;34m(self)\u001b[0m\n\u001b[1;32m     21\u001b[0m     \u001b[0;32mdef\u001b[0m \u001b[0mload_data\u001b[0m\u001b[0;34m(\u001b[0m\u001b[0mself\u001b[0m\u001b[0;34m)\u001b[0m\u001b[0;34m:\u001b[0m\u001b[0;34m\u001b[0m\u001b[0;34m\u001b[0m\u001b[0m\n\u001b[1;32m     22\u001b[0m         \u001b[0mself\u001b[0m\u001b[0;34m.\u001b[0m\u001b[0mdata\u001b[0m \u001b[0;34m=\u001b[0m \u001b[0mDocklessData\u001b[0m\u001b[0;34m(\u001b[0m\u001b[0;34m)\u001b[0m\u001b[0;34m\u001b[0m\u001b[0;34m\u001b[0m\u001b[0m\n\u001b[0;32m---> 23\u001b[0;31m         \u001b[0mself\u001b[0m\u001b[0;34m.\u001b[0m\u001b[0mdata\u001b[0m\u001b[0;34m.\u001b[0m\u001b[0mload_and_clean\u001b[0m\u001b[0;34m(\u001b[0m\u001b[0;34m)\u001b[0m\u001b[0;34m\u001b[0m\u001b[0;34m\u001b[0m\u001b[0m\n\u001b[0m\u001b[1;32m     24\u001b[0m \u001b[0;34m\u001b[0m\u001b[0m\n\u001b[1;32m     25\u001b[0m         \u001b[0mself\u001b[0m\u001b[0;34m.\u001b[0m\u001b[0mscooter_data\u001b[0m \u001b[0;34m=\u001b[0m \u001b[0mself\u001b[0m\u001b[0;34m.\u001b[0m\u001b[0mdata\u001b[0m\u001b[0;34m.\u001b[0m\u001b[0mscooter_data\u001b[0m\u001b[0;34m\u001b[0m\u001b[0;34m\u001b[0m\u001b[0m\n",
      "\u001b[0;32m~/Documents/Source/343h/traffic/notebooks/dockless_data.py\u001b[0m in \u001b[0;36mload_and_clean\u001b[0;34m(self)\u001b[0m\n\u001b[1;32m    146\u001b[0m         \u001b[0mself\u001b[0m\u001b[0;34m.\u001b[0m\u001b[0mload\u001b[0m\u001b[0;34m(\u001b[0m\u001b[0;34m)\u001b[0m\u001b[0;34m\u001b[0m\u001b[0;34m\u001b[0m\u001b[0m\n\u001b[1;32m    147\u001b[0m         \u001b[0mself\u001b[0m\u001b[0;34m.\u001b[0m\u001b[0mclean_class_data\u001b[0m\u001b[0;34m(\u001b[0m\u001b[0;34m)\u001b[0m\u001b[0;34m\u001b[0m\u001b[0;34m\u001b[0m\u001b[0m\n\u001b[0;32m--> 148\u001b[0;31m         \u001b[0mself\u001b[0m\u001b[0;34m.\u001b[0m\u001b[0mclean_scooter_data\u001b[0m\u001b[0;34m(\u001b[0m\u001b[0;34m)\u001b[0m\u001b[0;34m\u001b[0m\u001b[0;34m\u001b[0m\u001b[0m\n\u001b[0m\u001b[1;32m    149\u001b[0m         \u001b[0mself\u001b[0m\u001b[0;34m.\u001b[0m\u001b[0mtransform_endpoints\u001b[0m\u001b[0;34m(\u001b[0m\u001b[0;34m)\u001b[0m\u001b[0;34m\u001b[0m\u001b[0;34m\u001b[0m\u001b[0m\n",
      "\u001b[0;32m~/Documents/Source/343h/traffic/notebooks/dockless_data.py\u001b[0m in \u001b[0;36mclean_scooter_data\u001b[0;34m(self)\u001b[0m\n\u001b[1;32m     89\u001b[0m         \u001b[0mscooter_data\u001b[0m \u001b[0;34m=\u001b[0m \u001b[0mscooter_data\u001b[0m\u001b[0;34m[\u001b[0m\u001b[0mscooter_data\u001b[0m\u001b[0;34m[\u001b[0m\u001b[0;34m'Census Tract End'\u001b[0m\u001b[0;34m]\u001b[0m \u001b[0;34m!=\u001b[0m \u001b[0;34m'OUT_OF_BOUNDS'\u001b[0m\u001b[0;34m]\u001b[0m\u001b[0;34m\u001b[0m\u001b[0;34m\u001b[0m\u001b[0m\n\u001b[1;32m     90\u001b[0m \u001b[0;34m\u001b[0m\u001b[0m\n\u001b[0;32m---> 91\u001b[0;31m         \u001b[0mscooter_data\u001b[0m\u001b[0;34m[\u001b[0m\u001b[0;34m'Census Tract Start'\u001b[0m\u001b[0;34m]\u001b[0m \u001b[0;34m=\u001b[0m \u001b[0mpd\u001b[0m\u001b[0;34m.\u001b[0m\u001b[0mto_numeric\u001b[0m\u001b[0;34m(\u001b[0m\u001b[0mscooter_data\u001b[0m\u001b[0;34m[\u001b[0m\u001b[0;34m'Census Tract Start'\u001b[0m\u001b[0;34m]\u001b[0m\u001b[0;34m)\u001b[0m\u001b[0;34m\u001b[0m\u001b[0;34m\u001b[0m\u001b[0m\n\u001b[0m\u001b[1;32m     92\u001b[0m         \u001b[0mscooter_data\u001b[0m\u001b[0;34m[\u001b[0m\u001b[0;34m'Census Tract End'\u001b[0m\u001b[0;34m]\u001b[0m \u001b[0;34m=\u001b[0m \u001b[0mpd\u001b[0m\u001b[0;34m.\u001b[0m\u001b[0mto_numeric\u001b[0m\u001b[0;34m(\u001b[0m\u001b[0mscooter_data\u001b[0m\u001b[0;34m[\u001b[0m\u001b[0;34m'Census Tract End'\u001b[0m\u001b[0;34m]\u001b[0m\u001b[0;34m)\u001b[0m\u001b[0;34m\u001b[0m\u001b[0;34m\u001b[0m\u001b[0m\n\u001b[1;32m     93\u001b[0m \u001b[0;34m\u001b[0m\u001b[0m\n",
      "\u001b[0;31mKeyboardInterrupt\u001b[0m: "
     ]
    }
   ],
   "source": [
    "dl_model = DocklessBayesNet()\n",
    "dl_model.load_data()"
   ]
  },
  {
   "cell_type": "markdown",
   "metadata": {},
   "source": [
    "Precomputing conditional probabilities"
   ]
  },
  {
   "cell_type": "code",
   "execution_count": 4,
   "metadata": {},
   "outputs": [],
   "source": [
    "dl_model.compute_start_region_distribution()"
   ]
  },
  {
   "cell_type": "code",
   "execution_count": 6,
   "metadata": {},
   "outputs": [],
   "source": [
    "dl_data = dl_model.data"
   ]
  },
  {
   "cell_type": "code",
   "execution_count": 11,
   "metadata": {},
   "outputs": [
    {
     "name": "stdout",
     "output_type": "stream",
     "text": [
      "0.3564760684967041\n",
      "0.026952719688415526\n"
     ]
    },
    {
     "data": {
      "text/plain": [
       "[(12, 11.75, 'RLM', 415, '000401'),\n",
       " (12, 11.75, 'RLM', 415, '000500'),\n",
       " (12, 11.5, 'RLM', 415, '000500'),\n",
       " (12, 11.5, 'RLM', 415, '000401'),\n",
       " (12, 11.5, 'RLM', 415, '000500'),\n",
       " (12, 11.75, 'RLM', 415, '000500'),\n",
       " (12, 11.5, 'RLM', 415, '000500'),\n",
       " (12, 11.5, 'RLM', 595, '000500'),\n",
       " (12, 11.5, 'CBA', 595, '000500'),\n",
       " (12, 11.5, 'CPE', 595, '000500')]"
      ]
     },
     "execution_count": 11,
     "metadata": {},
     "output_type": "execute_result"
    }
   ],
   "source": [
    "dl_model.compute_distance_distribution(12)\n",
    "dl_model.gibbs_sample(10, 12)"
   ]
  },
  {
   "cell_type": "code",
   "execution_count": 12,
   "metadata": {},
   "outputs": [
    {
     "name": "stdout",
     "output_type": "stream",
     "text": [
      "0.3119208812713623\n",
      "0.01627941131591797\n"
     ]
    },
    {
     "data": {
      "text/plain": [
       "[(9, 8.75, 'SUT', 255, '000604'),\n",
       " (9, 8.75, 'SUT', 255, '000604'),\n",
       " (9, 8.75, 'SUT', 485, '000604'),\n",
       " (9, 8.75, 'SUT', 485, '000604'),\n",
       " (9, 8.75, 'SUT', 405, '000604'),\n",
       " (9, 8.75, 'SUT', 405, '000603'),\n",
       " (9, 8.75, 'SUT', 405, '000604'),\n",
       " (9, 8.75, 'SUT', 405, '000604'),\n",
       " (9, 8.75, 'UTC', 405, '000604'),\n",
       " (9, 8.75, 'UTC', 405, '000604')]"
      ]
     },
     "execution_count": 12,
     "metadata": {},
     "output_type": "execute_result"
    }
   ],
   "source": [
    "dl_model.compute_distance_distribution(9)\n",
    "dl_model.gibbs_sample(10, 9)"
   ]
  },
  {
   "cell_type": "markdown",
   "metadata": {},
   "source": [
    "## Comparing Original Data Distribution and Modeled One"
   ]
  },
  {
   "cell_type": "code",
   "execution_count": 45,
   "metadata": {},
   "outputs": [
    {
     "name": "stdout",
     "output_type": "stream",
     "text": [
      "0.2902710437774658\n",
      "0.019165320801734925\n",
      "0.3657538890838623\n",
      "0.018780752635002135\n",
      "0.3391299247741699\n",
      "0.017875361704826356\n",
      "0.30733728408813477\n",
      "0.018445457291603087\n",
      "0.29127001762390137\n",
      "0.017205397129058837\n",
      "0.32146620750427246\n",
      "0.018937350869178773\n",
      "0.31360602378845215\n",
      "0.019735879397392273\n",
      "0.31679701805114746\n",
      "0.01782086856365204\n",
      "0.2977306842803955\n",
      "0.01820083451271057\n"
     ]
    }
   ],
   "source": [
    "data = []\n",
    "for i in range(8, 17):\n",
    "    dl_model.compute_distance_distribution(i)\n",
    "    data.extend(dl_model.gibbs_sample(10000, i))"
   ]
  },
  {
   "cell_type": "code",
   "execution_count": 46,
   "metadata": {},
   "outputs": [
    {
     "data": {
      "text/html": [
       "<div>\n",
       "<style scoped>\n",
       "    .dataframe tbody tr th:only-of-type {\n",
       "        vertical-align: middle;\n",
       "    }\n",
       "\n",
       "    .dataframe tbody tr th {\n",
       "        vertical-align: top;\n",
       "    }\n",
       "\n",
       "    .dataframe thead th {\n",
       "        text-align: right;\n",
       "    }\n",
       "</style>\n",
       "<table border=\"1\" class=\"dataframe\">\n",
       "  <thead>\n",
       "    <tr style=\"text-align: right;\">\n",
       "      <th></th>\n",
       "      <th>tract_start</th>\n",
       "      <th>count</th>\n",
       "      <th>proportion</th>\n",
       "    </tr>\n",
       "  </thead>\n",
       "  <tbody>\n",
       "    <tr>\n",
       "      <th>0</th>\n",
       "      <td>000204</td>\n",
       "      <td>1449</td>\n",
       "      <td>0.016100</td>\n",
       "    </tr>\n",
       "    <tr>\n",
       "      <th>1</th>\n",
       "      <td>000401</td>\n",
       "      <td>21769</td>\n",
       "      <td>0.241878</td>\n",
       "    </tr>\n",
       "    <tr>\n",
       "      <th>2</th>\n",
       "      <td>000500</td>\n",
       "      <td>8351</td>\n",
       "      <td>0.092789</td>\n",
       "    </tr>\n",
       "    <tr>\n",
       "      <th>3</th>\n",
       "      <td>000603</td>\n",
       "      <td>28222</td>\n",
       "      <td>0.313578</td>\n",
       "    </tr>\n",
       "    <tr>\n",
       "      <th>4</th>\n",
       "      <td>000604</td>\n",
       "      <td>25957</td>\n",
       "      <td>0.288411</td>\n",
       "    </tr>\n",
       "    <tr>\n",
       "      <th>5</th>\n",
       "      <td>000700</td>\n",
       "      <td>4252</td>\n",
       "      <td>0.047244</td>\n",
       "    </tr>\n",
       "  </tbody>\n",
       "</table>\n",
       "</div>"
      ],
      "text/plain": [
       "  tract_start  count  proportion\n",
       "0      000204   1449    0.016100\n",
       "1      000401  21769    0.241878\n",
       "2      000500   8351    0.092789\n",
       "3      000603  28222    0.313578\n",
       "4      000604  25957    0.288411\n",
       "5      000700   4252    0.047244"
      ]
     },
     "execution_count": 46,
     "metadata": {},
     "output_type": "execute_result"
    }
   ],
   "source": [
    "df = pd.DataFrame(data, columns=['class_time', 'start_time', 'building', 'distance', 'tract_start'])\n",
    "sampled_data = df.groupby(['tract_start'])['tract_start'].agg('count').to_frame('count').reset_index()\n",
    "total = float(sum(sampled_data['count']))\n",
    "sampled_data['proportion'] = sampled_data['count'].apply(lambda x: x/total)\n",
    "sampled_data"
   ]
  },
  {
   "cell_type": "code",
   "execution_count": 44,
   "metadata": {},
   "outputs": [
    {
     "data": {
      "text/html": [
       "<div>\n",
       "<style scoped>\n",
       "    .dataframe tbody tr th:only-of-type {\n",
       "        vertical-align: middle;\n",
       "    }\n",
       "\n",
       "    .dataframe tbody tr th {\n",
       "        vertical-align: top;\n",
       "    }\n",
       "\n",
       "    .dataframe thead th {\n",
       "        text-align: right;\n",
       "    }\n",
       "</style>\n",
       "<table border=\"1\" class=\"dataframe\">\n",
       "  <thead>\n",
       "    <tr style=\"text-align: right;\">\n",
       "      <th></th>\n",
       "      <th>tract_start</th>\n",
       "      <th>count</th>\n",
       "      <th>proportion</th>\n",
       "    </tr>\n",
       "  </thead>\n",
       "  <tbody>\n",
       "    <tr>\n",
       "      <th>0</th>\n",
       "      <td>000204</td>\n",
       "      <td>6680</td>\n",
       "      <td>0.013659</td>\n",
       "    </tr>\n",
       "    <tr>\n",
       "      <th>1</th>\n",
       "      <td>000401</td>\n",
       "      <td>81055</td>\n",
       "      <td>0.165741</td>\n",
       "    </tr>\n",
       "    <tr>\n",
       "      <th>2</th>\n",
       "      <td>000500</td>\n",
       "      <td>33338</td>\n",
       "      <td>0.068169</td>\n",
       "    </tr>\n",
       "    <tr>\n",
       "      <th>3</th>\n",
       "      <td>000603</td>\n",
       "      <td>177054</td>\n",
       "      <td>0.362039</td>\n",
       "    </tr>\n",
       "    <tr>\n",
       "      <th>4</th>\n",
       "      <td>000604</td>\n",
       "      <td>163038</td>\n",
       "      <td>0.333379</td>\n",
       "    </tr>\n",
       "    <tr>\n",
       "      <th>5</th>\n",
       "      <td>000700</td>\n",
       "      <td>27882</td>\n",
       "      <td>0.057013</td>\n",
       "    </tr>\n",
       "  </tbody>\n",
       "</table>\n",
       "</div>"
      ],
      "text/plain": [
       "  tract_start   count  proportion\n",
       "0      000204    6680    0.013659\n",
       "1      000401   81055    0.165741\n",
       "2      000500   33338    0.068169\n",
       "3      000603  177054    0.362039\n",
       "4      000604  163038    0.333379\n",
       "5      000700   27882    0.057013"
      ]
     },
     "execution_count": 44,
     "metadata": {},
     "output_type": "execute_result"
    }
   ],
   "source": [
    "original_data = dl_data.transformed_endpoints.groupby(['tract_start'])['tract_start'].agg('count').to_frame('count').reset_index()\n",
    "total = float(sum(original_data['count']))\n",
    "original_data['proportion'] = original_data['count'].apply(lambda x: x/total)\n",
    "original_data"
   ]
  },
  {
   "cell_type": "code",
   "execution_count": 151,
   "metadata": {},
   "outputs": [
    {
     "name": "stdout",
     "output_type": "stream",
     "text": [
      "wtf\n",
      "wtf\n",
      "wtf\n",
      "wtf\n",
      "wtf\n",
      "wtf\n",
      "wtf\n",
      "wtf\n",
      "wtf\n",
      "wtf\n",
      "wtf\n",
      "wtf\n",
      "wtf\n",
      "wtf\n",
      "wtf\n",
      "wtf\n",
      "wtf\n",
      "wtf\n",
      "wtf\n",
      "wtf\n",
      "wtf\n",
      "wtf\n",
      "wtf\n",
      "wtf\n",
      "wtf\n",
      "wtf\n"
     ]
    },
    {
     "data": {
      "text/plain": [
       "0          444\n",
       "1            0\n",
       "2         1311\n",
       "3          905\n",
       "4         1238\n",
       "5         1090\n",
       "6          369\n",
       "7         1183\n",
       "8         1331\n",
       "9         1118\n",
       "10         757\n",
       "11         983\n",
       "12        1073\n",
       "13         633\n",
       "14        1613\n",
       "15         418\n",
       "16         894\n",
       "17          54\n",
       "18         704\n",
       "19         580\n",
       "20        1365\n",
       "21        1249\n",
       "22        1266\n",
       "23        1014\n",
       "24         609\n",
       "25         818\n",
       "26         671\n",
       "27         497\n",
       "28         573\n",
       "29        1277\n",
       "          ... \n",
       "489017     672\n",
       "489018     855\n",
       "489019     789\n",
       "489020     715\n",
       "489021    2215\n",
       "489022    1940\n",
       "489023     609\n",
       "489024    1129\n",
       "489025     456\n",
       "489026    1042\n",
       "489027     623\n",
       "489028     599\n",
       "489029    1024\n",
       "489030    1235\n",
       "489031    1418\n",
       "489032    1718\n",
       "489033     785\n",
       "489034     889\n",
       "489035     325\n",
       "489036     961\n",
       "489037       0\n",
       "489038    1103\n",
       "489039    1560\n",
       "489040    1413\n",
       "489041     502\n",
       "489042    1754\n",
       "489043     712\n",
       "489044    1110\n",
       "489045     512\n",
       "489046     706\n",
       "Name: distance, Length: 489047, dtype: int64"
      ]
     },
     "execution_count": 151,
     "metadata": {},
     "output_type": "execute_result"
    },
    {
     "data": {
      "image/png": "[encoded data removed]",
      "text/plain": [
       "<Figure size 432x288 with 1 Axes>"
      ]
     },
     "metadata": {
      "needs_background": "light"
     },
     "output_type": "display_data"
    },
    {
     "data": {
      "image/png": "[encoded data removed]",
      "text/plain": [
       "<Figure size 432x288 with 1 Axes>"
      ]
     },
     "metadata": {
      "needs_background": "light"
     },
     "output_type": "display_data"
    }
   ],
   "source": [
    "df.hist(bins=15, column='distance')\n",
    "dl_data.transformed_endpoints['distance'] = dl_data.transformed_endpoints['Trip Distance'].apply(lambda x: int(x))\n",
    "dl_data.transformed_endpoints.hist(bins = 15, column = 'distance')\n",
    "dl_data.transformed_endpoints['distance']"
   ]
  },
  {
   "cell_type": "code",
   "execution_count": 75,
   "metadata": {},
   "outputs": [
    {
     "name": "stdout",
     "output_type": "stream",
     "text": [
      "Power_divergenceResult(statistic=0.05852902341764081, pvalue=0.9999568274909372)\n"
     ]
    }
   ],
   "source": [
    "from scipy.stats import chisquare\n",
    "\n",
    "results = chisquare(sampled_data['proportion'], f_exp=original_data['proportion'])\n",
    "print(results)"
   ]
  },
  {
   "cell_type": "code",
   "execution_count": null,
   "metadata": {},
   "outputs": [],
   "source": []
  },
  {
   "cell_type": "code",
   "execution_count": null,
   "metadata": {},
   "outputs": [],
   "source": []
  }
 ],
 "metadata": {
  "kernelspec": {
   "display_name": "Python 3",
   "language": "python",
   "name": "python3"
  },
  "language_info": {
   "codemirror_mode": {
    "name": "ipython",
    "version": 3
   },
   "file_extension": ".py",
   "mimetype": "text/x-python",
   "name": "python",
   "nbconvert_exporter": "python",
   "pygments_lexer": "ipython3",
   "version": "3.7.2"
  }
 },
 "nbformat": 4,
 "nbformat_minor": 2
}
